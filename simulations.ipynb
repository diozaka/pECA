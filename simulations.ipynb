{
 "cells": [
  {
   "cell_type": "markdown",
   "metadata": {},
   "source": [
    "The whole notebook takes around **5 minutes** to complete on a machine with Intel(R) Core(TM) i7-8550U CPU @ 1.80GHz."
   ]
  },
  {
   "cell_type": "code",
   "execution_count": null,
   "metadata": {},
   "outputs": [],
   "source": [
    "import itertools\n",
    "\n",
    "import numpy as np\n",
    "import scipy.stats as ss\n",
    "import matplotlib.pyplot as plt\n",
    "import pandas as pd\n",
    "\n",
    "from tqdm import tqdm_notebook as tqdm # progress bars"
   ]
  },
  {
   "cell_type": "code",
   "execution_count": null,
   "metadata": {},
   "outputs": [],
   "source": [
    "# TCP = trigger coincidence process\n",
    "\n",
    "def trigger_coincidences(X, E, taus, delta):\n",
    "    # Compute the TCP K_{tr}^{delta,taus}(E, X) for time series 'X' and\n",
    "    # event series 'E' using the sequence of thresholds 'taus' with a\n",
    "    # time tolerance of 'delta'\n",
    "    T = min(len(X), len(E))\n",
    "    K_tr = np.zeros_like(taus, dtype=int)\n",
    "    for i, tau in enumerate(taus):\n",
    "        A = (X > tau)*1\n",
    "        K_tr[i] = len([t for t in range(T-delta) if (E[t] == 1) and np.sum(A[t:t+delta+1]) >= 1])\n",
    "    return K_tr\n",
    "\n",
    "def _fit_gev_blockmaxima(X, blocksize):\n",
    "    # Fit the parameters of the GEV distribution to the maxima of blocks\n",
    "    # of size 'blocksize' in the time series 'X'\n",
    "    T = len(X) - (len(X)%blocksize) # ignore remainder\n",
    "    Mk = np.array([X[t:t+blocksize].max() for t in range(0, T, blocksize)])\n",
    "    gev_params = ss.genextreme.fit(Mk)\n",
    "    return gev_params\n",
    "\n",
    "def tcp_params_fit(X, delta, taus):\n",
    "    # Fit the parameters of the TCP Markov model (marginal and conditional probabilities)\n",
    "    # for the time series 'X', with time tolerance 'delta' and threshold sequence 'taus'\n",
    "    gev_params = _fit_gev_blockmaxima(X, delta+1)\n",
    "    ps_marginal = np.array([1.-ss.genextreme.cdf(tau, *gev_params) for tau in taus])\n",
    "    ps_conditional = np.ones_like(taus)*np.nan\n",
    "    ps_conditional[1:] = np.array([ps_marginal[i]/ps_marginal[i-1] for i in range(1,len(taus))])\n",
    "    return ps_marginal, ps_conditional\n",
    "\n",
    "def tcp_marginal_expectation(N_E, tcp_params):\n",
    "    # Compute the marginally expected TCP, i.e., the TCP that is obtained when taking the\n",
    "    # pointwise expected values independently for each threshold\n",
    "    return tcp_params[0]*N_E\n",
    "\n",
    "def tcp_nll(K_tr, N_E, idx_start, tcp_params):\n",
    "    # Compute the negative log-likelihood (test statistic value s) for the observed TCP 'K_tr',\n",
    "    # when the event series has 'N_E' event occurrences. Use threshold at position 'idx_start'\n",
    "    # as the first threshold (to shift attention to higher quantiles, default: 0), and\n",
    "    # the TCP model parameters from 'tcp_params'\n",
    "    ps_marginal, ps_conditional  = tcp_params\n",
    "    return -(ss.binom.logpmf(K_tr[idx_start], N_E, ps_marginal[idx_start])\n",
    "       + np.sum([ss.binom.logpmf(K_tr[i], K_tr[i-1], ps_conditional[i])\n",
    "                     for i in range(idx_start+1, len(ps_marginal))]))"
   ]
  },
  {
   "cell_type": "code",
   "execution_count": null,
   "metadata": {},
   "outputs": [],
   "source": [
    "def exponential_ma_model(T, order):\n",
    "    X = np.random.exponential(size=T)\n",
    "    if order > 1:\n",
    "        X = np.convolve(X, [1./order] * order, mode='same')\n",
    "        X = (X-X.mean())/X.std() # standardize\n",
    "        X = X-X.min() # make positive\n",
    "    return X"
   ]
  },
  {
   "cell_type": "markdown",
   "metadata": {},
   "source": [
    "# Figure 4\n",
    "Canonical trigger coincidence processes and corresponding QTR plot,\n",
    "for a simulated time series and two event series (independent and dependent)."
   ]
  },
  {
   "cell_type": "code",
   "execution_count": null,
   "metadata": {},
   "outputs": [],
   "source": [
    "# random data or data from paper?\n",
    "random_data = False\n",
    "\n",
    "if random_data:\n",
    "    T = 4096\n",
    "    Delta = 7\n",
    "    N_E = 32\n",
    "    order = 8\n",
    "    shift = 4\n",
    "    X = exponential_ma_model(T, order)\n",
    "    E_ind = np.zeros(T)\n",
    "    E_ind[np.random.choice(range(T-Delta), size=N_E, replace=False)] = 1\n",
    "    E_dep = np.zeros(T)\n",
    "    E_dep[np.random.choice(np.where(X>4)[0]-shift, size=N_E, replace=False)] = 1\n",
    "else:\n",
    "    # load data from the paper\n",
    "    data = pd.read_csv(\"fig4.dat\", sep=\" \", index_col=0)\n",
    "    X = data['X'].values\n",
    "    E_ind = data['E'].values # independent\n",
    "    E_dep = data['E_dep'].values # dependent\n",
    "    T = len(X)\n",
    "    N_E = E_dep.sum() # = E_ind.sum()"
   ]
  },
  {
   "cell_type": "code",
   "execution_count": null,
   "metadata": {},
   "outputs": [],
   "source": [
    "plt.figure(figsize=(15,3))\n",
    "for i in np.where(E_ind==1)[0]:\n",
    "    plt.axvline(i, c=\"orange\")\n",
    "for i in np.where(E_dep==1)[0]:\n",
    "    plt.axvline(i, c=\"red\")\n",
    "plt.plot(X)\n",
    "plt.xlim(0,1024)\n",
    "plt.show()"
   ]
  },
  {
   "cell_type": "code",
   "execution_count": null,
   "metadata": {
    "scrolled": false
   },
   "outputs": [],
   "source": [
    "Delta = 7\n",
    "taus = np.sort(X) # for canonical process\n",
    "\n",
    "tcp_params = tcp_params_fit(X, Delta, taus)\n",
    "K_tr_ind = trigger_coincidences(X, E_ind, taus, Delta)\n",
    "K_tr_dep = trigger_coincidences(X, E_dep, taus, Delta)\n",
    "\n",
    "plt.plot(taus, tcp_marginal_expectation(N_E, tcp_params), c=\"black\", lw=3)\n",
    "plt.plot(taus, K_tr_dep, c=\"red\")\n",
    "plt.plot(taus, K_tr_ind, c=\"orange\")\n",
    "plt.xlabel('threshold $\\\\tau_m$')\n",
    "plt.ylabel('$K_{tr}$')\n",
    "plt.show()\n",
    "\n",
    "plt.plot(np.linspace(1,T,T)/T, tcp_marginal_expectation(N_E, tcp_params)/N_E, c=\"black\", lw=3)\n",
    "plt.plot(np.linspace(1,T,T)/T, K_tr_dep/N_E, c=\"red\")\n",
    "plt.plot(np.linspace(1,T,T)/T, K_tr_ind/N_E, c=\"orange\")\n",
    "plt.xlabel(\"$p$-quantile\")\n",
    "plt.ylabel(\"$r_{tr}$\")\n",
    "plt.show()"
   ]
  },
  {
   "cell_type": "markdown",
   "metadata": {},
   "source": [
    "# Figure 5\n",
    "Expected QTR plots for simulated pairs of independent time series and event series, for three\n",
    "different levels of serial dependencies (MA orders 0, 32, 128) and increasing time tolerance\n",
    "($\\Delta$ = 0, 1, 2, 4, 8, 16, 32, 64)."
   ]
  },
  {
   "cell_type": "code",
   "execution_count": null,
   "metadata": {},
   "outputs": [],
   "source": [
    "T = 4196\n",
    "Deltas = [0,1,2,4,8,16,32,64]\n",
    "rhos = np.linspace(0,1,50)\n",
    "orders = [0,32,128]\n",
    "N_E = 32\n",
    "repetitions = 100\n",
    "\n",
    "q_tr_vals = np.zeros((len(orders), len(Deltas), len(rhos)))\n",
    "for i, order in enumerate(orders):\n",
    "    X = exponential_ma_model(T, order)\n",
    "    taus = np.percentile(X, rhos*100)\n",
    "    for j, Delta in enumerate(Deltas):\n",
    "        for rep in range(repetitions):\n",
    "            E = np.zeros(T)\n",
    "            E[np.random.choice(range(T-Delta), size=N_E, replace=False)] = 1\n",
    "            q_tr_vals[i,j,:] += trigger_coincidences(X, E, taus, Delta)/float(N_E)\n",
    "        q_tr_vals[i,j,:] /= repetitions\n",
    "        plt.plot(rhos, q_tr_vals[i,j,:])\n",
    "        plt.title(\"MA order %d\" % order)\n",
    "        plt.xlabel(\"$p$-quantile\")\n",
    "        plt.ylabel(\"$r_{tr}$\")\n",
    "    plt.show()"
   ]
  },
  {
   "cell_type": "markdown",
   "metadata": {},
   "source": [
    "# Figure 7\n",
    "Comparison of null distributions (Monte Carlo, Bernoulli, GEV) of the number of trigger coincidences under independence, for three time series with different MA orders, at three thresholds ($\\tau$ = 3, 4, 5)."
   ]
  },
  {
   "cell_type": "code",
   "execution_count": null,
   "metadata": {},
   "outputs": [],
   "source": [
    "def simulate(T, order, N_E, taus, Deltas, samples):\n",
    "    p_gevs = np.empty((len(taus), len(Deltas))) # success probabilities under GEV distribution (our work)\n",
    "    p_bers = np.empty((len(taus), len(Deltas))) # success probabilities under Bernoulli assumption (previous work)\n",
    "    K_triggers = np.zeros((len(taus), len(Deltas), samples))\n",
    "\n",
    "    X = exponential_ma_model(T, order)\n",
    "    for (itau, jDelta) in tqdm(list(itertools.product(enumerate(taus), enumerate(Deltas)))):\n",
    "        i, tau = itau\n",
    "        j, Delta = jDelta\n",
    "\n",
    "        # obtain threshold exceedance process\n",
    "        A = (X > tau)*1\n",
    "\n",
    "        # estimate p under Bernoulli assumption\n",
    "        N_A = A.sum()\n",
    "        p_bers[i,j] = (1-(1-N_A/T)**(Delta+1))\n",
    "        \n",
    "        # estimate p under GEV distribution\n",
    "        Mk = np.array([X[t:(t+Delta+1)].max() for t in range(0, T, Delta+1)])\n",
    "        gev_params = ss.genextreme.fit(Mk)\n",
    "        p_gevs[i,j] = (1-ss.genextreme.cdf(tau, *gev_params))\n",
    "        \n",
    "        # Monte Carlo estimate\n",
    "        for s in range(samples):\n",
    "            # sample independent event series with N_E events\n",
    "            E = np.zeros(T)\n",
    "            E[np.random.choice(range(T-Delta), size=N_E, replace=False)] = 1\n",
    "            \n",
    "            # record observed number of trigger coincidences\n",
    "            K_trigger = len([t for t in range(T-Delta) if (E[t] == 1) and np.sum(A[t:t+Delta+1]) >= 1])\n",
    "            K_triggers[i,j,s] = K_trigger\n",
    "        \n",
    "    return {\n",
    "        \"K_triggers\" : K_triggers,\n",
    "        \"p_gevs\" : p_gevs,\n",
    "        \"p_bers\" : p_bers\n",
    "    }"
   ]
  },
  {
   "cell_type": "code",
   "execution_count": null,
   "metadata": {},
   "outputs": [],
   "source": [
    "T = 8192\n",
    "N_E = 32\n",
    "taus = [5,4,3]\n",
    "Deltas = [7]\n",
    "samples = 1000\n",
    "\n",
    "np.random.seed(2)\n",
    "sim_ma0  = simulate(T=T, order= 0, N_E=N_E, taus=taus, Deltas=Deltas, samples=samples)\n",
    "sim_ma32 = simulate(T=T, order=32, N_E=N_E, taus=taus, Deltas=Deltas, samples=samples)\n",
    "sim_ma64 = simulate(T=T, order=64, N_E=N_E, taus=taus, Deltas=Deltas, samples=samples)"
   ]
  },
  {
   "cell_type": "code",
   "execution_count": null,
   "metadata": {
    "scrolled": false
   },
   "outputs": [],
   "source": [
    "for i in range(len(taus)):\n",
    "    for j in range(len(Deltas)):\n",
    "        plt.figure(figsize=(15,3))\n",
    "        plt.suptitle(\"tau = %.2f Delta = %d\" % (taus[i], Deltas[j]), y=1.05)\n",
    "\n",
    "        plt.subplot(131)\n",
    "        plt.title(\"MA order 0 (iid)\")\n",
    "        plt.plot(np.sort(sim_ma0[\"K_triggers\"][i,j]), (np.array(range(samples))+1)/samples, label=\"emp\")\n",
    "        plt.plot(np.linspace(0,N_E,1000), ss.binom.cdf(np.linspace(0,N_E,1000), N_E, sim_ma0[\"p_bers\"][i,j]), label=\"ber\")\n",
    "        plt.plot(np.linspace(0,N_E,1000), ss.binom.cdf(np.linspace(0,N_E,1000), N_E, sim_ma0[\"p_gevs\"][i,j]), label=\"gev\")\n",
    "        plt.xlim(0,N_E)\n",
    "        plt.legend()\n",
    "\n",
    "        plt.subplot(132)\n",
    "        plt.title(\"MA order 32\")\n",
    "        plt.plot(np.sort(sim_ma32[\"K_triggers\"][i,j]), (np.array(range(samples))+1)/samples, label=\"emp\")\n",
    "        plt.plot(np.linspace(0,N_E,1000), ss.binom.cdf(np.linspace(0,N_E,1000), N_E, sim_ma32[\"p_bers\"][i,j]), label=\"ber\")\n",
    "        plt.plot(np.linspace(0,N_E,1000), ss.binom.cdf(np.linspace(0,N_E,1000), N_E, sim_ma32[\"p_gevs\"][i,j]), label=\"gev\")\n",
    "        plt.xlim(0,N_E)\n",
    "        plt.legend()\n",
    "\n",
    "        plt.subplot(133)\n",
    "        plt.title(\"MA order 64\")\n",
    "        plt.plot(np.sort(sim_ma64[\"K_triggers\"][i,j]), (np.array(range(samples))+1)/samples, label=\"emp\")\n",
    "        plt.plot(np.linspace(0,N_E,1000), ss.binom.cdf(np.linspace(0,N_E,1000), N_E, sim_ma64[\"p_bers\"][i,j]), label=\"ber\")\n",
    "        plt.plot(np.linspace(0,N_E,1000), ss.binom.cdf(np.linspace(0,N_E,1000), N_E, sim_ma64[\"p_gevs\"][i,j]), label=\"gev\")\n",
    "        plt.xlim(0,N_E)\n",
    "        plt.legend()\n",
    "\n",
    "        plt.show()"
   ]
  },
  {
   "cell_type": "markdown",
   "metadata": {},
   "source": [
    "# Figure 9\n",
    "Simulated trigger coincidence processes under independence, colorized by their\n",
    "surprise value, along with the theoretical minima and maxima."
   ]
  },
  {
   "cell_type": "code",
   "execution_count": null,
   "metadata": {},
   "outputs": [],
   "source": [
    "T = 8192\n",
    "N_E = 32\n",
    "order = 8\n",
    "Delta = 7\n",
    "rhos = np.linspace(0.75,1,32)\n",
    "idx_start = 0\n",
    "\n",
    "X = exponential_ma_model(T, order)\n",
    "E = np.zeros(T)\n",
    "E[np.random.choice(range(T-Delta), size=N_E, replace=False)] = 1\n",
    "\n",
    "taus = np.percentile(X,rhos*100)\n",
    "tcp_params = tcp_params_fit(X, Delta, taus)"
   ]
  },
  {
   "cell_type": "markdown",
   "metadata": {},
   "source": [
    "### Simulate trigger coincidence processes from independent event series"
   ]
  },
  {
   "cell_type": "code",
   "execution_count": null,
   "metadata": {},
   "outputs": [],
   "source": [
    "simuls = 1000\n",
    "simul_nlls = np.zeros(simuls)\n",
    "simul_seqs = [None] * simuls\n",
    "for s in tqdm(range(simuls)):\n",
    "    simul_E = np.random.permutation(E)\n",
    "    simul_K_vals = trigger_coincidences(X, simul_E, taus, Delta)\n",
    "    simul_seqs[s] = simul_K_vals\n",
    "    simul_nlls[s] = tcp_nll(simul_K_vals, N_E, idx_start, tcp_params)\n",
    "simul_seqs = np.array(simul_seqs)"
   ]
  },
  {
   "cell_type": "markdown",
   "metadata": {},
   "source": [
    "### Compute most likely and least likely trigger coincidence process from Markov model\n",
    "... which corresponds to the highest and lowest possible test statistic values"
   ]
  },
  {
   "cell_type": "code",
   "execution_count": null,
   "metadata": {},
   "outputs": [],
   "source": [
    "# find the most likely TCP (DP algorithm)\n",
    "Qmax = (-np.infty)*np.ones((N_E+1, len(rhos)))\n",
    "Qmax[:,idx_start] = [ss.binom.logpmf(k, N_E, tcp_params[0][idx_start]) for k in range(0,N_E+1)]\n",
    "Qargmax = (-1)*np.ones((N_E+1, len(rhos)), dtype=\"int\")\n",
    "for m in range(idx_start+1, len(rhos)):\n",
    "    Qmax[:,m] = [np.max([Qmax[kprev,m-1] + ss.binom.logpmf(k, kprev, tcp_params[1][m])\n",
    "            for kprev in range(k,N_E+1)])\n",
    "        for k in range(0,N_E+1)]\n",
    "    Qargmax[:,m] = [k+np.argmax([Qmax[kprev,m-1] + ss.binom.logpmf(k, kprev, tcp_params[1][m])\n",
    "            for kprev in range(k,N_E+1)])\n",
    "        for k in range(0,N_E+1)]\n",
    "DPMode_q_tr_vals_proc = np.zeros_like(rhos)*np.nan\n",
    "m = len(rhos)-1\n",
    "k = np.argmax(Qmax[:,m])\n",
    "while k >= 0:\n",
    "    DPMode_q_tr_vals_proc[m] = k\n",
    "    k = Qargmax[k,m]\n",
    "    m = m-1\n",
    "\n",
    "# plot path through DP table\n",
    "#plt.imshow(Qmax)\n",
    "#plt.plot(DPMode_q_tr_vals_proc)\n",
    "#plt.show()"
   ]
  },
  {
   "cell_type": "code",
   "execution_count": null,
   "metadata": {},
   "outputs": [],
   "source": [
    "# find the least likely TCP (DP algorithm)\n",
    "Qmin = np.infty*np.ones((N_E+1, len(rhos)))\n",
    "Qmin[:,idx_start] = [ss.binom.logpmf(k, N_E, tcp_params[0][idx_start]) for k in range(0,N_E+1)]\n",
    "Qargmin = (-1)*np.ones((N_E+1, len(rhos)), dtype=\"int\")\n",
    "for m in range(idx_start+1, len(rhos)):\n",
    "    Qmin[:,m] = [np.min([Qmin[kprev,m-1] + ss.binom.logpmf(k, kprev, tcp_params[1][m])\n",
    "            for kprev in range(k,N_E+1)])\n",
    "        for k in range(0,N_E+1)]\n",
    "    Qargmin[:,m] = [k+np.argmin([Qmin[kprev,m-1] + ss.binom.logpmf(k, kprev, tcp_params[1][m])\n",
    "            for kprev in range(k,N_E+1)])\n",
    "        for k in range(0,N_E+1)]\n",
    "DPAntiMode_q_tr_vals_proc = np.zeros_like(rhos)*np.nan\n",
    "m = len(rhos)-1\n",
    "k = np.argmin(Qmin[:,m])\n",
    "while k >= 0:\n",
    "    DPAntiMode_q_tr_vals_proc[m] = k\n",
    "    k = Qargmin[k,m]\n",
    "    m = m-1\n",
    "\n",
    "# plot path through DP table\n",
    "#plt.imshow(Qmin)\n",
    "#plt.plot(DPAntiMode_q_tr_vals_proc)\n",
    "#plt.show()"
   ]
  },
  {
   "cell_type": "markdown",
   "metadata": {},
   "source": [
    "### Plot everything"
   ]
  },
  {
   "cell_type": "code",
   "execution_count": null,
   "metadata": {},
   "outputs": [],
   "source": [
    "cmap = plt.get_cmap('plasma')\n",
    "\n",
    "simul_seqs2 = simul_seqs[np.argsort(simul_nlls)].copy()\n",
    "simul_nlls2 = simul_nlls.copy()\n",
    "simul_nlls2.sort()\n",
    "\n",
    "for seq, nll in zip(simul_seqs2, simul_nlls2):\n",
    "    plt.plot(rhos, seq/N_E, color=cmap((nll-simul_nlls2.min())/(simul_nlls2.max()-simul_nlls2.min())), alpha=1)\n",
    "plt.plot(rhos, DPMode_q_tr_vals_proc/N_E, \"k-\", lw=3, alpha=1) # most likely TCP / lowest possible test statistic value\n",
    "plt.plot(rhos, DPAntiMode_q_tr_vals_proc/N_E, \"k-\", lw=3, alpha=1) # least likely TCP / highest possible test statistic value\n",
    "plt.plot(rhos, tcp_marginal_expectation(N_E, tcp_params)/N_E, \"k--\", lw=3, alpha=1)\n",
    "plt.xlabel('$p$-quantile')\n",
    "plt.ylabel('$r_{tr}$')\n",
    "plt.xlim((rhos[idx_start],1))\n",
    "plt.show()"
   ]
  },
  {
   "cell_type": "code",
   "execution_count": null,
   "metadata": {},
   "outputs": [],
   "source": []
  }
 ],
 "metadata": {
  "kernelspec": {
   "display_name": "Python 3",
   "language": "python",
   "name": "python3"
  },
  "language_info": {
   "codemirror_mode": {
    "name": "ipython",
    "version": 3
   },
   "file_extension": ".py",
   "mimetype": "text/x-python",
   "name": "python",
   "nbconvert_exporter": "python",
   "pygments_lexer": "ipython3",
   "version": "3.7.5"
  }
 },
 "nbformat": 4,
 "nbformat_minor": 2
}
